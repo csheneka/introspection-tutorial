{
 "cells": [
  {
   "cell_type": "markdown",
   "metadata": {},
   "source": [
    "# The 21cm background with 21cmFAST\n",
    "\n",
    "In this tutorial we will learn how to simulate the 21cm background with a popular semi-numerical code. We are going to: \n",
    "\n",
    "1) Derive co-eval signal cubes\n",
    "\n",
    "2) Derive lightcones of 21cm data\n",
    "\n",
    "3) Analyse: 21cm power spectrum\n",
    "\n",
    "This tutorial follows part of the tutorials here: https://github.com/21cmfast/21cmFAST/tree/master/docs/tutorials\n",
    "As well as descriptions here: https://21cmfast.readthedocs.io/en/latest/tutorials\n",
    "\n",
    "### Code repository\n",
    "More information on the semi-numerical code 21cmFAST can be found here:\n",
    "\n",
    "https://github.com/21cmfast/21cmFAST\n",
    "\n",
    "https://21cmfast.readthedocs.io\n",
    "\n",
    "### Publications\n",
    "21cmFAST was introduced here: https://arxiv.org/pdf/1003.3878.pdf\n",
    "\n",
    "as well as its python-wrapped version: https://doi.org/10.21105/joss.02582 "
   ]
  },
  {
   "cell_type": "code",
   "execution_count": null,
   "metadata": {},
   "outputs": [],
   "source": [
    "# some packages that we will need\n",
    "#uncomment on google colab:\n",
    "#!pip install -q condacolab\n",
    "#import condacolab\n",
    "#condacolab.install()\n",
    "#!conda --version\n",
    "#!conda install -c conda-forge 21cmFAST"
   ]
  },
  {
   "cell_type": "code",
   "execution_count": null,
   "metadata": {},
   "outputs": [],
   "source": [
    "%matplotlib inline\n",
    "import matplotlib.pyplot as plt\n",
    "import os\n",
    "# We change the default level of the logger so that\n",
    "# we can see what's happening with caching.\n",
    "import logging, sys, os\n",
    "logger = logging.getLogger('21cmFAST')\n",
    "logger.setLevel(logging.INFO)\n",
    "\n",
    "import py21cmfast as p21c\n",
    "\n",
    "# For plotting the cubes, we use the plotting submodule:\n",
    "from py21cmfast import plotting\n",
    "\n",
    "# For interacting with the cache\n",
    "from py21cmfast import cache_tools\n",
    "\n",
    "print(f\"Using 21cmFAST version {p21c.__version__}\")"
   ]
  },
  {
   "cell_type": "code",
   "execution_count": null,
   "metadata": {},
   "outputs": [],
   "source": [
    "# Clear the cache\n",
    "if not os.path.exists('_cache'):\n",
    "    os.mkdir('_cache')\n",
    "\n",
    "p21c.config['direc'] = '_cache'\n",
    "cache_tools.clear_cache(direc=\"_cache\")"
   ]
  },
  {
   "cell_type": "markdown",
   "metadata": {},
   "source": [
    "## 1) Derive co-eval signal cubes\n",
    "\n",
    "Co-eval cubes are boxes taken at at fixed time, or redshift. The run_coeval method performs all necessary simulation steps to derive the 21cm co-eval box. "
   ]
  },
  {
   "cell_type": "code",
   "execution_count": null,
   "metadata": {},
   "outputs": [],
   "source": [
    "# call run_coeval at three different redshifts\n",
    "coeval8, coeval9, coeval10 = p21c.run_coeval(\n",
    "    redshift = [8.0, 9.0, 10.0],\n",
    "    user_params = {\"HII_DIM\": 100, \"BOX_LEN\": 100, \"USE_INTERPOLATION_TABLES\": True},\n",
    "    cosmo_params = p21c.CosmoParams(SIGMA_8=0.8),\n",
    "    astro_params = p21c.AstroParams({\"HII_EFF_FACTOR\":20.0}),\n",
    "    random_seed=12345\n",
    ")\n"
   ]
  },
  {
   "cell_type": "markdown",
   "metadata": {},
   "source": [
    "We now have a look at the set of parameters we can access.\n",
    "\n",
    "### Task 1: \n",
    "Explore user_params, cosmo_params, astro_params:\n",
    "\n",
    "Create some more co-eval cubes in different settings.\n"
   ]
  },
  {
   "cell_type": "code",
   "execution_count": null,
   "metadata": {
    "scrolled": true
   },
   "outputs": [],
   "source": [
    "print(coeval8.user_params)\n",
    "help(p21c.AstroParams)"
   ]
  },
  {
   "cell_type": "markdown",
   "metadata": {},
   "source": [
    "Let's now have a look at the cubes!\n",
    "\n",
    "###  Question: \n",
    "What dimensions do the co-eval cubes created have?\n",
    "\n",
    "### Task 2:\n",
    "Plot some co-eval cubes."
   ]
  },
  {
   "cell_type": "code",
   "execution_count": null,
   "metadata": {},
   "outputs": [],
   "source": [
    "# base example\n",
    "print(coeval8.brightness_temp.shape)\n",
    "\n",
    "fig, ax = plt.subplots(1,3, figsize=(14,4))\n",
    "for i, (coeval, redshift) in enumerate(zip([coeval8, coeval9, coeval10], [8,9,10])):\n",
    "    plotting.coeval_sliceplot(coeval, ax=ax[i], fig=fig);\n",
    "    plt.title(\"z = %s\"%redshift)\n",
    "plt.tight_layout()\n",
    "\n",
    "# which data boxes can exist?\n",
    "print(p21c.wrapper.get_all_fieldnames(coeval8))\n",
    "\n",
    "# choose another kind to plot\n",
    "fig, ax = plt.subplots(1,3, figsize=(14,4))\n",
    "for i, (coeval, redshift) in enumerate(zip([coeval8, coeval9, coeval10], [8,9,10])):\n",
    "    plotting.coeval_sliceplot(coeval, kind='density', ax=ax[i], fig=fig);\n",
    "    plt.title(\"z = %s\"%redshift)\n",
    "plt.tight_layout()"
   ]
  },
  {
   "cell_type": "code",
   "execution_count": null,
   "metadata": {},
   "outputs": [],
   "source": [
    "# bonus: more functionalities are implemented, such as calculating the average, global 21cm signal\n",
    "# _struct attributes contain the numpy arrays of the data cubes\n",
    "print(coeval8.brightness_temp_struct.global_Tb)\n",
    "print(coeval9.brightness_temp_struct.global_Tb)\n",
    "print(coeval10.brightness_temp_struct.global_Tb)"
   ]
  },
  {
   "cell_type": "markdown",
   "metadata": {},
   "source": [
    "### Question: \n",
    "What does run_coeval() calculate? \n",
    "\n",
    "Let's try to access each field individually!"
   ]
  },
  {
   "cell_type": "code",
   "execution_count": null,
   "metadata": {},
   "outputs": [],
   "source": [
    "# default parameters\n",
    "p21c.CosmoParams._defaults_\n",
    "\n",
    "# initial density and velocity fields\n",
    "initial_conditions = p21c.initial_conditions(\n",
    "    user_params = {\"HII_DIM\": 100, \"BOX_LEN\": 100},\n",
    "    cosmo_params = p21c.CosmoParams(SIGMA_8=0.8),\n",
    "    random_seed=54321\n",
    ")\n",
    "\n",
    "\n",
    "print(initial_conditions.cosmo_params)\n",
    "print(initial_conditions.fieldnames)\n",
    "\n",
    "plotting.coeval_sliceplot(initial_conditions, \"hires_density\")"
   ]
  },
  {
   "cell_type": "code",
   "execution_count": null,
   "metadata": {},
   "outputs": [],
   "source": [
    "# perturbed density and velocity fields (at given redshift)\n",
    "\n",
    "perturbed_field = p21c.perturb_field(\n",
    "    redshift = 8.0,\n",
    "    init_boxes = initial_conditions\n",
    ")\n",
    "\n",
    "plotting.coeval_sliceplot(perturbed_field, \"density\")\n",
    "plotting.coeval_sliceplot(perturbed_field, \"velocity\")\n"
   ]
  },
  {
   "cell_type": "code",
   "execution_count": null,
   "metadata": {},
   "outputs": [],
   "source": [
    "# ionisation field (assuming post-heating)\n",
    "\n",
    "ionized_field = p21c.ionize_box(\n",
    "    perturbed_field = perturbed_field\n",
    ")\n",
    "\n",
    "plotting.coeval_sliceplot(ionized_field, \"xH_box\")"
   ]
  },
  {
   "cell_type": "code",
   "execution_count": null,
   "metadata": {},
   "outputs": [],
   "source": [
    "# 21cm brightness offset temperature\n",
    "\n",
    "brightness_temp = p21c.brightness_temperature(\n",
    "    ionized_box=ionized_field, perturbed_field=perturbed_field\n",
    ")\n",
    "\n",
    "plotting.coeval_sliceplot(brightness_temp)"
   ]
  },
  {
   "cell_type": "code",
   "execution_count": null,
   "metadata": {},
   "outputs": [],
   "source": [
    "# Bonus: calculate the brightness temperature without assuming post-heating\n",
    "\n",
    "spin_temp = p21c.spin_temperature(\n",
    "    perturbed_field = perturbed_field,\n",
    "    zprime_step_factor=1.05,\n",
    ")\n",
    "\n",
    "plotting.coeval_sliceplot(spin_temp, \"Ts_box\")\n",
    "\n",
    "\n",
    "\n",
    "ionized_box = p21c.ionize_box(\n",
    "    spin_temp = spin_temp,\n",
    "    zprime_step_factor=1.05,\n",
    ")\n",
    "\n",
    "\n",
    "\n",
    "brightness_temp = p21c.brightness_temperature(\n",
    "    ionized_box = ionized_box,\n",
    "    perturbed_field = perturbed_field,\n",
    "    spin_temp = spin_temp\n",
    ")"
   ]
  },
  {
   "cell_type": "markdown",
   "metadata": {},
   "source": [
    "## 2a) Compare saliency maps for different inputs\n",
    "\n",
    "### Task 2a: \n",
    "Plot both saliency for simulations-only and mock lightcones\n",
    "\n",
    "### Question 2a: \n",
    "Does the network's attention shift with the inclusion of noise? If yes, how?"
   ]
  },
  {
   "cell_type": "code",
   "execution_count": null,
   "metadata": {},
   "outputs": [],
   "source": [
    "# Task 2, plot and compare here\n",
    "model2 = keras.models.load_model('models/3D_21cmPIE_Net_optmock_par6.h5')\n",
    "#google colab: one might have to adjust the path e.g. to 'introspection-tutorial/models/..\n",
    "\n",
    "obj_saliency2 = Saliency(model2, model_modifier=model_modifier,clone=True) \n",
    "\n",
    "# generate saliency maps for parameters i.e. classes\n",
    "parameters=[0,1,2,3,4,5]\n",
    "lc = data[0,0]\n",
    "for para in parameters:\n",
    "    def loss(output):\n",
    "        return output[0][para] # shape (samples,classes)\n",
    "    map_saliency2 = obj_saliency2(loss,lc.reshape(140,140,2350,1))\n",
    "\n",
    "print(map_saliency2.shape)\n",
    "nslice = 130\n",
    "plt.figure()\n",
    "plot_saliency = plt.imshow(map_saliency2[0,nslice,:,:], cmap=cm.hot)\n",
    "plt.figure()\n",
    "plot_lc = plt.imshow(lc[nslice,:,:], cmap=\"EoR\",vmin=-150,vmax=30)"
   ]
  },
  {
   "cell_type": "markdown",
   "metadata": {},
   "source": [
    "## 2b) Beyond vanilla saliency \n",
    "### Question 2b: \n",
    "Can the mapping of attention with saliency be improved, in particular can noise in the maps be reduced? Tipp: Use SmoothGrad from tf-keras-vis. What does SmoothGrad exploit?\n",
    "\n",
    "### Task 2b:\n",
    "Explore SmoothGrad for different setting (smooth_samples, smooth_noise)."
   ]
  },
  {
   "cell_type": "code",
   "execution_count": null,
   "metadata": {},
   "outputs": [],
   "source": [
    "#  Question 2b, try out SmoothGrad here\n",
    "from tf_keras_vis.saliency import Saliency\n",
    "\n",
    "# Change the sigmoid activation of the last layer to a linear one to not obstruct attention.\n",
    "def model_modifier(m):\n",
    "    m.layers[-1].activation = tf.keras.activations.linear\n",
    "    return m\n",
    "\n",
    "# create saliency object\n",
    "obj_saliency = Saliency(model, model_modifier=model_modifier,clone=True) \n",
    "\n",
    "nsamples = 5\n",
    "noise = 0.2\n",
    "\n",
    "# generate saliency maps for parameters i.e. classes\n",
    "parameters=[0,1,2,3,4,5]\n",
    "lc = data[0,0]\n",
    "for para in parameters:\n",
    "    def loss(output):\n",
    "        return output[0][para] # shape (samples,classes)\n",
    "    map_saliency = obj_saliency(loss,lc.reshape(140,140,2350,1),smooth_samples=nsamples,smooth_noise=noise)\n",
    "\n",
    "print(map_saliency.shape)\n",
    "nslice = 130\n",
    "plt.figure()\n",
    "plot_saliency = plt.imshow(map_saliency[0,nslice,:,:], cmap=cm.hot)\n",
    "plt.figure()\n",
    "plot_lc = plt.imshow(lc[nslice,:,:], cmap=\"EoR\",vmin=-150,vmax=30)"
   ]
  },
  {
   "cell_type": "markdown",
   "metadata": {},
   "source": [
    "## 3) (optional) Derive class activation maps and compare \n",
    "\n",
    "### Task 3: \n",
    "Create CAMs, explore their spatial and temporal structure. "
   ]
  },
  {
   "cell_type": "code",
   "execution_count": null,
   "metadata": {},
   "outputs": [],
   "source": [
    "# note: \n",
    "# there is currently an incompatibility of CAM generated with tf-keras-vis and the tensorflow version 2.9\n",
    "# will need to downgrade tensorflow version\n",
    "from tf_keras_vis.gradcam import Gradcam\n",
    "\n",
    "# create CAM object\n",
    "obj_cam = gradcam.Gradcam(model, model_modifier=model_modifier,clone=True) \n",
    "\n",
    "# generate heatmaps for attention\n",
    "parameters=[0,1,2,3,4,5]\n",
    "lc = data[0,0]\n",
    "for para in parameters:\n",
    "    def loss(output):\n",
    "        return output[0][para] # shape (samples,classes)\n",
    "    map_cam = obj_cam(loss,lc.reshape(140,140,2350,1),penultimate_layer=-1) # focus on last convolutional layer\n",
    "\n",
    "print(map_cam.shape)\n",
    "nslice = 130\n",
    "plt.figure()\n",
    "plot_cam = plt.imshow(map_cam[0,nslice,:,:], cmap=cm.hot)\n",
    "plt.figure()\n",
    "plot_lc = plt.imshow(lc[nslice,:,:], cmap=\"EoR\",vmin=-150,vmax=30)"
   ]
  },
  {
   "cell_type": "code",
   "execution_count": null,
   "metadata": {},
   "outputs": [],
   "source": []
  }
 ],
 "metadata": {
  "kernelspec": {
   "display_name": "Python 3",
   "language": "python",
   "name": "python3"
  },
  "language_info": {
   "codemirror_mode": {
    "name": "ipython",
    "version": 3
   },
   "file_extension": ".py",
   "mimetype": "text/x-python",
   "name": "python",
   "nbconvert_exporter": "python",
   "pygments_lexer": "ipython3",
   "version": "3.6.10"
  }
 },
 "nbformat": 4,
 "nbformat_minor": 4
}
