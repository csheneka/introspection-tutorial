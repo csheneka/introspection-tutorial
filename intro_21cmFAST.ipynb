{
 "cells": [
  {
   "cell_type": "markdown",
   "metadata": {},
   "source": [
    "# The 21cm background with 21cmFAST\n",
    "\n",
    "In this tutorial we will learn how to simulate the 21cm background with a popular semi-numerical code. We are going to: \n",
    "\n",
    "1) Derive co-eval signal cubes\n",
    "\n",
    "2) Derive lightcones of 21cm data\n",
    "\n",
    "3) Analyse: 21cm power spectrum\n",
    "\n",
    "This tutorial follows part of the tutorials here: https://github.com/21cmfast/21cmFAST/tree/master/docs/tutorials\n",
    "As well as descriptions here: https://21cmfast.readthedocs.io/en/latest/tutorials\n",
    "\n",
    "### Code repository\n",
    "More information on the semi-numerical code 21cmFAST can be found here:\n",
    "\n",
    "https://github.com/21cmfast/21cmFAST\n",
    "\n",
    "https://21cmfast.readthedocs.io\n",
    "\n",
    "### Publications\n",
    "21cmFAST was introduced here: https://arxiv.org/pdf/1003.3878.pdf\n",
    "\n",
    "as well as its python-wrapped version: https://doi.org/10.21105/joss.02582 "
   ]
  },
  {
   "cell_type": "code",
   "execution_count": null,
   "metadata": {},
   "outputs": [],
   "source": [
    "# some packages that we will need\n",
    "#uncomment on google colab:\n",
    "#!pip install -q condacolab\n",
    "#import condacolab\n",
    "#condacolab.install()\n",
    "#!conda --version\n",
    "#!conda install -c conda-forge 21cmFAST"
   ]
  },
  {
   "cell_type": "code",
   "execution_count": 9,
   "metadata": {},
   "outputs": [
    {
     "name": "stdout",
     "output_type": "stream",
     "text": [
      "Using 21cmFAST version 3.0.3\n"
     ]
    }
   ],
   "source": [
    "%matplotlib inline\n",
    "import matplotlib.pyplot as plt\n",
    "import os\n",
    "# We change the default level of the logger so that\n",
    "# we can see what's happening with caching.\n",
    "import logging, sys, os\n",
    "logger = logging.getLogger('21cmFAST')\n",
    "logger.setLevel(logging.INFO)\n",
    "\n",
    "import py21cmfast as p21c\n",
    "\n",
    "# For plotting the cubes, we use the plotting submodule:\n",
    "from py21cmfast import plotting\n",
    "\n",
    "# For interacting with the cache\n",
    "from py21cmfast import cache_tools\n",
    "\n",
    "print(f\"Using 21cmFAST version {p21c.__version__}\")"
   ]
  },
  {
   "cell_type": "code",
   "execution_count": 10,
   "metadata": {},
   "outputs": [
    {
     "name": "stderr",
     "output_type": "stream",
     "text": [
      "2023-04-10 22:55:20,905 | INFO | Removed 0 files from cache.\n"
     ]
    }
   ],
   "source": [
    "# Clear the cache\n",
    "if not os.path.exists('_cache'):\n",
    "    os.mkdir('_cache')\n",
    "\n",
    "p21c.config['direc'] = '_cache'\n",
    "cache_tools.clear_cache(direc=\"_cache\")"
   ]
  },
  {
   "cell_type": "markdown",
   "metadata": {},
   "source": [
    "## 1) Derive co-eval signal cubes\n",
    "\n",
    "Co-eval cubes are boxes taken at at fixed time, or redshift. The run_coeval method performs all necessary simulation steps to derive the 21cm co-eval box. "
   ]
  },
  {
   "cell_type": "code",
   "execution_count": 11,
   "metadata": {},
   "outputs": [
    {
     "name": "stderr",
     "output_type": "stream",
     "text": [
      "2023-04-10 22:55:41,025 | ERROR | In function: ComputeIonizedBox.  Arguments: (10.0, 0, UserParams(BOX_LEN:100, DIM:300, HII_DIM:100, HMF:1, NO_RNG:False, N_THREADS:1, PERTURB_ON_HIGH_RES:False, POWER_SPECTRUM:0, USE_FFTW_WISDOM:False, USE_INTERPOLATION_TABLES:True, USE_RELATIVE_VELOCITIES:False), CosmoParams(OMb:0.04897468161869667, OMm:0.30964144154550644, POWER_INDEX:0.9665, SIGMA_8:0.8, hlittle:0.6766), AstroParams(ALPHA_ESC:-0.5, ALPHA_STAR:0.5, F_ESC10:0.1, F_ESC7_MINI:0.01, F_H2_SHIELD:0.0, F_STAR10:0.05011872336272722, F_STAR7_MINI:0.01, HII_EFF_FACTOR:20.0, ION_Tvir_MIN:49999.9995007974, L_X:1e+40, L_X_MINI:1e+40, M_TURN:501187233.6272715, NU_X_THRESH:500.0, N_RSD_STEPS:20, R_BUBBLE_MAX:15.0, X_RAY_SPEC_INDEX:1.0, X_RAY_Tvir_MIN:49999.9995007974, t_STAR:0.5), FlagOptions(INHOMO_RECO:False, M_MIN_in_Mass:False, PHOTON_CONS:False, SUBCELL_RSD:False, USE_HALO_FIELD:False, USE_MASS_DEPENDENT_ZETA:False, USE_MINI_HALOS:False, USE_TS_FLUCT:False), PerturbedField(UserParams(BOX_LEN:100, DIM:300, HII_DIM:100, HMF:1, NO_RNG:False, N_THREADS:1, PERTURB_ON_HIGH_RES:False, POWER_SPECTRUM:0, USE_FFTW_WISDOM:False, USE_INTERPOLATION_TABLES:True, USE_RELATIVE_VELOCITIES:False); CosmoParams(OMb:0.04897468161869667, OMm:0.30964144154550644, POWER_INDEX:0.9665, SIGMA_8:0.8, hlittle:0.6766); redshift:10.0; GlobalParams(CRIT_DENS_TRANSITION=1.5;DELTA_CRIT_MODE=1;DELTA_R_FACTOR=1.100000023841858;EVOLVE_DENSITY_LINEARLY=0;FILTER=0;HALO_FILTER=0;INITIAL_REDSHIFT=300.0;MIN_DENSITY_LOW_LIMIT=9.000000034120603e-08;M_MAX_INTEGRAL=1.0000000272564224e+16;M_MIN_INTEGRAL=100000.0;M_WDM=2.0;NBINS_LF=100;OMk=0.0;OMn=0.0;OMr=8.600000001024455e-05;OMtot=1.0;OPTIMIZE=0;OPTIMIZE_MIN_MASS=99999997952.0;P_CUTOFF=0;PhotonConsAsymptoteTo=0.009999999776482582;PhotonConsEnd=0.30000001192092896;PhotonConsEndCalibz=5.0;PhotonConsStart=0.9950000047683716;R_BUBBLE_MIN=0.6203504800796509;R_OVERLAP_FACTOR=1.0;R_smooth_density=0.20000000298023224;RecombPhotonCons=0;SECOND_ORDER_LPT_CORRECTIONS=1;SHETH_b=0.15000000596046448;SHETH_c=0.05000000074505806;SMOOTH_EVOLVED_DENSITY_FIELD=0;T_RE=20000.0;Y_He=0.24500000476837158;Zreion_HeII=3.0;g_x=1.5;wl=-1.0); v3.0)_random_seed=12345, PerturbedField(UserParams(BOX_LEN:300.0, DIM:600, HII_DIM:200, HMF:1, NO_RNG:False, N_THREADS:1, PERTURB_ON_HIGH_RES:False, POWER_SPECTRUM:0, USE_FFTW_WISDOM:False, USE_INTERPOLATION_TABLES:False, USE_RELATIVE_VELOCITIES:False); CosmoParams(OMb:0.04897468161869667, OMm:0.30964144154550644, POWER_INDEX:0.9665, SIGMA_8:0.8102, hlittle:0.6766); redshift:0; GlobalParams(CRIT_DENS_TRANSITION=1.5;DELTA_CRIT_MODE=1;DELTA_R_FACTOR=1.100000023841858;EVOLVE_DENSITY_LINEARLY=0;FILTER=0;HALO_FILTER=0;INITIAL_REDSHIFT=300.0;MIN_DENSITY_LOW_LIMIT=9.000000034120603e-08;M_MAX_INTEGRAL=1.0000000272564224e+16;M_MIN_INTEGRAL=100000.0;M_WDM=2.0;NBINS_LF=100;OMk=0.0;OMn=0.0;OMr=8.600000001024455e-05;OMtot=1.0;OPTIMIZE=0;OPTIMIZE_MIN_MASS=99999997952.0;P_CUTOFF=0;PhotonConsAsymptoteTo=0.009999999776482582;PhotonConsEnd=0.30000001192092896;PhotonConsEndCalibz=5.0;PhotonConsStart=0.9950000047683716;R_BUBBLE_MIN=0.6203504800796509;R_OVERLAP_FACTOR=1.0;R_smooth_density=0.20000000298023224;RecombPhotonCons=0;SECOND_ORDER_LPT_CORRECTIONS=1;SHETH_b=0.15000000596046448;SHETH_c=0.05000000074505806;SMOOTH_EVOLVED_DENSITY_FIELD=0;T_RE=20000.0;Y_He=0.24500000476837158;Zreion_HeII=3.0;g_x=1.5;wl=-1.0); v3.0)_random_seed=None, IonizedBox(UserParams(BOX_LEN:300.0, DIM:600, HII_DIM:200, HMF:1, NO_RNG:False, N_THREADS:1, PERTURB_ON_HIGH_RES:False, POWER_SPECTRUM:0, USE_FFTW_WISDOM:False, USE_INTERPOLATION_TABLES:False, USE_RELATIVE_VELOCITIES:False); CosmoParams(OMb:0.04897468161869667, OMm:0.30964144154550644, POWER_INDEX:0.9665, SIGMA_8:0.8102, hlittle:0.6766); redshift:0; FlagOptions(INHOMO_RECO:False, M_MIN_in_Mass:False, PHOTON_CONS:False, SUBCELL_RSD:False, USE_HALO_FIELD:False, USE_MASS_DEPENDENT_ZETA:False, USE_MINI_HALOS:False, USE_TS_FLUCT:False); AstroParams(ALPHA_ESC:-0.5, ALPHA_STAR:0.5, F_ESC10:0.1, F_ESC7_MINI:0.01, F_H2_SHIELD:0.0, F_STAR10:0.05011872336272722, F_STAR7_MINI:0.01, HII_EFF_FACTOR:30.0, ION_Tvir_MIN:49999.9995007974, L_X:1e+40, L_X_MINI:1e+40, M_TURN:501187233.6272715, NU_X_THRESH:500.0, N_RSD_STEPS:20, R_BUBBLE_MAX:15.0, X_RAY_SPEC_INDEX:1.0, X_RAY_Tvir_MIN:49999.9995007974, t_STAR:0.5); GlobalParams(ALPHA_UVB=5.0;CLUMPING_FACTOR=2.0;CRIT_DENS_TRANSITION=1.5;DELTA_CRIT_MODE=1;DELTA_R_FACTOR=1.100000023841858;DELTA_R_HII_FACTOR=1.100000023841858;EVOLVE_DENSITY_LINEARLY=0;FILTER=0;FIND_BUBBLE_ALGORITHM=2;HALO_FILTER=0;HEAT_FILTER=0;HII_FILTER=1;HII_ROUND_ERR=9.999999747378752e-06;INITIAL_REDSHIFT=300.0;MIN_DENSITY_LOW_LIMIT=9.000000034120603e-08;M_MAX_INTEGRAL=1.0000000272564224e+16;M_MIN_INTEGRAL=100000.0;M_WDM=2.0;NBINS_LF=100;NUM_FILTER_STEPS_FOR_Ts=40;NU_X_BAND_MAX=2000.0;NU_X_MAX=10000.0;N_POISSON=5;OMk=0.0;OMn=0.0;OMr=8.600000001024455e-05;OMtot=1.0;OPTIMIZE=0;OPTIMIZE_MIN_MASS=99999997952.0;P_CUTOFF=0;PhotonConsAsymptoteTo=0.009999999776482582;PhotonConsEnd=0.30000001192092896;PhotonConsEndCalibz=5.0;PhotonConsStart=0.9950000047683716;Pop=2;Pop2_ion=5000.0;Pop3_ion=44021.0;R_BUBBLE_MIN=0.6203504800796509;R_OVERLAP_FACTOR=1.0;R_XLy_MAX=500.0;R_smooth_density=0.20000000298023224;RecombPhotonCons=0;SECOND_ORDER_LPT_CORRECTIONS=1;SHETH_b=0.15000000596046448;SHETH_c=0.05000000074505806;SMOOTH_EVOLVED_DENSITY_FIELD=0;TK_at_Z_HEAT_MAX=-1.0;T_RE=20000.0;XION_at_Z_HEAT_MAX=-1.0;Y_He=0.24500000476837158;ZPRIME_STEP_FACTOR=1.0199999809265137;Z_HEAT_MAX=35.0;Zreion_HeII=3.0;g_x=1.5;wl=-1.0); v3.0)_random_seed=None, TsBox(UserParams(BOX_LEN:300.0, DIM:600, HII_DIM:200, HMF:1, NO_RNG:False, N_THREADS:1, PERTURB_ON_HIGH_RES:False, POWER_SPECTRUM:0, USE_FFTW_WISDOM:False, USE_INTERPOLATION_TABLES:False, USE_RELATIVE_VELOCITIES:False); CosmoParams(OMb:0.04897468161869667, OMm:0.30964144154550644, POWER_INDEX:0.9665, SIGMA_8:0.8102, hlittle:0.6766); redshift:0; FlagOptions(INHOMO_RECO:False, M_MIN_in_Mass:False, PHOTON_CONS:False, SUBCELL_RSD:False, USE_HALO_FIELD:False, USE_MASS_DEPENDENT_ZETA:False, USE_MINI_HALOS:False, USE_TS_FLUCT:False); AstroParams(ALPHA_ESC:-0.5, ALPHA_STAR:0.5, F_ESC10:0.1, F_ESC7_MINI:0.01, F_H2_SHIELD:0.0, F_STAR10:0.05011872336272722, F_STAR7_MINI:0.01, HII_EFF_FACTOR:30.0, ION_Tvir_MIN:49999.9995007974, L_X:1e+40, L_X_MINI:1e+40, M_TURN:501187233.6272715, NU_X_THRESH:500.0, N_RSD_STEPS:20, R_BUBBLE_MAX:15.0, X_RAY_SPEC_INDEX:1.0, X_RAY_Tvir_MIN:49999.9995007974, t_STAR:0.5); GlobalParams(ALPHA_UVB=5.0;CLUMPING_FACTOR=2.0;CRIT_DENS_TRANSITION=1.5;DELTA_CRIT_MODE=1;DELTA_R_FACTOR=1.100000023841858;DELTA_R_HII_FACTOR=1.100000023841858;EVOLVE_DENSITY_LINEARLY=0;FILTER=0;FIND_BUBBLE_ALGORITHM=2;HALO_FILTER=0;HEAT_FILTER=0;HII_FILTER=1;HII_ROUND_ERR=9.999999747378752e-06;INITIAL_REDSHIFT=300.0;MIN_DENSITY_LOW_LIMIT=9.000000034120603e-08;M_MAX_INTEGRAL=1.0000000272564224e+16;M_MIN_INTEGRAL=100000.0;M_WDM=2.0;NBINS_LF=100;NUM_FILTER_STEPS_FOR_Ts=40;NU_X_BAND_MAX=2000.0;NU_X_MAX=10000.0;N_POISSON=5;OMk=0.0;OMn=0.0;OMr=8.600000001024455e-05;OMtot=1.0;OPTIMIZE=0;OPTIMIZE_MIN_MASS=99999997952.0;P_CUTOFF=0;PhotonConsAsymptoteTo=0.009999999776482582;PhotonConsEnd=0.30000001192092896;PhotonConsEndCalibz=5.0;PhotonConsStart=0.9950000047683716;Pop=2;Pop2_ion=5000.0;Pop3_ion=44021.0;R_BUBBLE_MIN=0.6203504800796509;R_OVERLAP_FACTOR=1.0;R_XLy_MAX=500.0;R_smooth_density=0.20000000298023224;RecombPhotonCons=0;SECOND_ORDER_LPT_CORRECTIONS=1;SHETH_b=0.15000000596046448;SHETH_c=0.05000000074505806;SMOOTH_EVOLVED_DENSITY_FIELD=0;TK_at_Z_HEAT_MAX=-1.0;T_RE=20000.0;XION_at_Z_HEAT_MAX=-1.0;Y_He=0.24500000476837158;ZPRIME_STEP_FACTOR=1.0199999809265137;Z_HEAT_MAX=35.0;Zreion_HeII=3.0;g_x=1.5;wl=-1.0); v3.0)_random_seed=None, PerturbHaloField(UserParams(BOX_LEN:100, DIM:300, HII_DIM:100, HMF:1, NO_RNG:False, N_THREADS:1, PERTURB_ON_HIGH_RES:False, POWER_SPECTRUM:0, USE_FFTW_WISDOM:False, USE_INTERPOLATION_TABLES:True, USE_RELATIVE_VELOCITIES:False); CosmoParams(OMb:0.04897468161869667, OMm:0.30964144154550644, POWER_INDEX:0.9665, SIGMA_8:0.8, hlittle:0.6766); redshift:10.0; FlagOptions(INHOMO_RECO:False, M_MIN_in_Mass:False, PHOTON_CONS:False, SUBCELL_RSD:False, USE_HALO_FIELD:False, USE_MASS_DEPENDENT_ZETA:False, USE_MINI_HALOS:False, USE_TS_FLUCT:False); AstroParams(ALPHA_ESC:-0.5, ALPHA_STAR:0.5, F_ESC10:0.1, F_ESC7_MINI:0.01, F_H2_SHIELD:0.0, F_STAR10:0.05011872336272722, F_STAR7_MINI:0.01, HII_EFF_FACTOR:20.0, ION_Tvir_MIN:49999.9995007974, L_X:1e+40, L_X_MINI:1e+40, M_TURN:501187233.6272715, NU_X_THRESH:500.0, N_RSD_STEPS:20, R_BUBBLE_MAX:15.0, X_RAY_SPEC_INDEX:1.0, X_RAY_Tvir_MIN:49999.9995007974, t_STAR:0.5); GlobalParams(ALPHA_UVB=5.0;CLUMPING_FACTOR=2.0;CRIT_DENS_TRANSITION=1.5;DELTA_CRIT_MODE=1;DELTA_R_FACTOR=1.100000023841858;DELTA_R_HII_FACTOR=1.100000023841858;EVOLVE_DENSITY_LINEARLY=0;FILTER=0;FIND_BUBBLE_ALGORITHM=2;HALO_FILTER=0;HEAT_FILTER=0;HII_FILTER=1;HII_ROUND_ERR=9.999999747378752e-06;INITIAL_REDSHIFT=300.0;MIN_DENSITY_LOW_LIMIT=9.000000034120603e-08;M_MAX_INTEGRAL=1.0000000272564224e+16;M_MIN_INTEGRAL=100000.0;M_WDM=2.0;NBINS_LF=100;NUM_FILTER_STEPS_FOR_Ts=40;NU_X_BAND_MAX=2000.0;NU_X_MAX=10000.0;N_POISSON=5;OMk=0.0;OMn=0.0;OMr=8.600000001024455e-05;OMtot=1.0;OPTIMIZE=0;OPTIMIZE_MIN_MASS=99999997952.0;P_CUTOFF=0;PhotonConsAsymptoteTo=0.009999999776482582;PhotonConsEnd=0.30000001192092896;PhotonConsEndCalibz=5.0;PhotonConsStart=0.9950000047683716;Pop=2;Pop2_ion=5000.0;Pop3_ion=44021.0;R_BUBBLE_MIN=0.6203504800796509;R_OVERLAP_FACTOR=1.0;R_XLy_MAX=500.0;R_smooth_density=0.20000000298023224;RecombPhotonCons=0;SECOND_ORDER_LPT_CORRECTIONS=1;SHETH_b=0.15000000596046448;SHETH_c=0.05000000074505806;SMOOTH_EVOLVED_DENSITY_FIELD=0;TK_at_Z_HEAT_MAX=-1.0;T_RE=20000.0;XION_at_Z_HEAT_MAX=-1.0;Y_He=0.24500000476837158;ZPRIME_STEP_FACTOR=1.0199999809265137;Z_HEAT_MAX=35.0;Zreion_HeII=3.0;g_x=1.5;wl=-1.0); v3.0)_random_seed=12345)\n"
     ]
    },
    {
     "ename": "FatalCError",
     "evalue": "21cmFAST is exiting.",
     "output_type": "error",
     "traceback": [
      "\u001b[0;31m---------------------------------------------------------------------------\u001b[0m",
      "\u001b[0;31mFatalCError\u001b[0m                               Traceback (most recent call last)",
      "\u001b[0;32m<ipython-input-11-be15015af3b6>\u001b[0m in \u001b[0;36m<module>\u001b[0;34m\u001b[0m\n\u001b[1;32m      5\u001b[0m     \u001b[0mcosmo_params\u001b[0m \u001b[0;34m=\u001b[0m \u001b[0mp21c\u001b[0m\u001b[0;34m.\u001b[0m\u001b[0mCosmoParams\u001b[0m\u001b[0;34m(\u001b[0m\u001b[0mSIGMA_8\u001b[0m\u001b[0;34m=\u001b[0m\u001b[0;36m0.8\u001b[0m\u001b[0;34m)\u001b[0m\u001b[0;34m,\u001b[0m\u001b[0;34m\u001b[0m\u001b[0;34m\u001b[0m\u001b[0m\n\u001b[1;32m      6\u001b[0m     \u001b[0mastro_params\u001b[0m \u001b[0;34m=\u001b[0m \u001b[0mp21c\u001b[0m\u001b[0;34m.\u001b[0m\u001b[0mAstroParams\u001b[0m\u001b[0;34m(\u001b[0m\u001b[0;34m{\u001b[0m\u001b[0;34m\"HII_EFF_FACTOR\"\u001b[0m\u001b[0;34m:\u001b[0m\u001b[0;36m20.0\u001b[0m\u001b[0;34m}\u001b[0m\u001b[0;34m)\u001b[0m\u001b[0;34m,\u001b[0m\u001b[0;34m\u001b[0m\u001b[0;34m\u001b[0m\u001b[0m\n\u001b[0;32m----> 7\u001b[0;31m     \u001b[0mrandom_seed\u001b[0m\u001b[0;34m=\u001b[0m\u001b[0;36m12345\u001b[0m\u001b[0;34m\u001b[0m\u001b[0;34m\u001b[0m\u001b[0m\n\u001b[0m\u001b[1;32m      8\u001b[0m )\n",
      "\u001b[0;32m~/opt/anaconda3/lib/python3.6/site-packages/py21cmfast/wrapper.py\u001b[0m in \u001b[0;36mrun_coeval\u001b[0;34m(redshift, user_params, cosmo_params, astro_params, flag_options, regenerate, write, direc, init_box, perturb, use_interp_perturb_field, pt_halos, random_seed, cleanup, **global_kwargs)\u001b[0m\n\u001b[1;32m   2334\u001b[0m                 \u001b[0mdirec\u001b[0m\u001b[0;34m=\u001b[0m\u001b[0mdirec\u001b[0m\u001b[0;34m,\u001b[0m\u001b[0;34m\u001b[0m\u001b[0;34m\u001b[0m\u001b[0m\n\u001b[1;32m   2335\u001b[0m                 cleanup=(\n\u001b[0;32m-> 2336\u001b[0;31m                     \u001b[0mcleanup\u001b[0m \u001b[0;32mand\u001b[0m \u001b[0mz\u001b[0m \u001b[0;34m==\u001b[0m \u001b[0mredshifts\u001b[0m\u001b[0;34m[\u001b[0m\u001b[0;34m-\u001b[0m\u001b[0;36m1\u001b[0m\u001b[0;34m]\u001b[0m\u001b[0;34m\u001b[0m\u001b[0;34m\u001b[0m\u001b[0m\n\u001b[0m\u001b[1;32m   2337\u001b[0m                 ),  # cleanup if its the last time through\n\u001b[1;32m   2338\u001b[0m             )\n",
      "\u001b[0;32m~/opt/anaconda3/lib/python3.6/site-packages/py21cmfast/wrapper.py\u001b[0m in \u001b[0;36mionize_box\u001b[0;34m(astro_params, flag_options, redshift, perturbed_field, previous_perturbed_field, previous_ionize_box, spin_temp, pt_halos, init_boxes, cosmo_params, user_params, regenerate, write, direc, random_seed, cleanup, **global_kwargs)\u001b[0m\n\u001b[1;32m   1631\u001b[0m             \u001b[0mspin_temp\u001b[0m\u001b[0;34m,\u001b[0m\u001b[0;34m\u001b[0m\u001b[0;34m\u001b[0m\u001b[0m\n\u001b[1;32m   1632\u001b[0m             \u001b[0mpt_halos\u001b[0m\u001b[0;34m,\u001b[0m\u001b[0;34m\u001b[0m\u001b[0;34m\u001b[0m\u001b[0m\n\u001b[0;32m-> 1633\u001b[0;31m             \u001b[0mwrite\u001b[0m\u001b[0;34m=\u001b[0m\u001b[0mwrite\u001b[0m\u001b[0;34m,\u001b[0m\u001b[0;34m\u001b[0m\u001b[0;34m\u001b[0m\u001b[0m\n\u001b[0m\u001b[1;32m   1634\u001b[0m         )\n\u001b[1;32m   1635\u001b[0m \u001b[0;34m\u001b[0m\u001b[0m\n",
      "\u001b[0;32m~/opt/anaconda3/lib/python3.6/site-packages/py21cmfast/_utils.py\u001b[0m in \u001b[0;36mcompute\u001b[0;34m(self, direc, write, *args)\u001b[0m\n\u001b[1;32m    936\u001b[0m             \u001b[0;32mraise\u001b[0m \u001b[0me\u001b[0m\u001b[0;34m\u001b[0m\u001b[0;34m\u001b[0m\u001b[0m\n\u001b[1;32m    937\u001b[0m \u001b[0;34m\u001b[0m\u001b[0m\n\u001b[0;32m--> 938\u001b[0;31m         \u001b[0m_process_exitcode\u001b[0m\u001b[0;34m(\u001b[0m\u001b[0mexitcode\u001b[0m\u001b[0;34m,\u001b[0m \u001b[0mself\u001b[0m\u001b[0;34m.\u001b[0m\u001b[0m_c_compute_function\u001b[0m\u001b[0;34m,\u001b[0m \u001b[0margs\u001b[0m\u001b[0;34m)\u001b[0m\u001b[0;34m\u001b[0m\u001b[0;34m\u001b[0m\u001b[0m\n\u001b[0m\u001b[1;32m    939\u001b[0m \u001b[0;34m\u001b[0m\u001b[0m\n\u001b[1;32m    940\u001b[0m         \u001b[0;31m# Ensure memory created in C gets mapped to numpy arrays in this struct.\u001b[0m\u001b[0;34m\u001b[0m\u001b[0;34m\u001b[0m\u001b[0;34m\u001b[0m\u001b[0m\n",
      "\u001b[0;32m~/opt/anaconda3/lib/python3.6/site-packages/py21cmfast/_utils.py\u001b[0m in \u001b[0;36m_process_exitcode\u001b[0;34m(exitcode, fnc, args)\u001b[0m\n\u001b[1;32m     51\u001b[0m             \u001b[0;32mraise\u001b[0m \u001b[0mParameterError\u001b[0m\u001b[0;34m\u001b[0m\u001b[0;34m\u001b[0m\u001b[0m\n\u001b[1;32m     52\u001b[0m         \u001b[0;32melif\u001b[0m \u001b[0mexitcode\u001b[0m \u001b[0;32min\u001b[0m \u001b[0;34m(\u001b[0m\u001b[0mIOERROR\u001b[0m\u001b[0;34m,\u001b[0m \u001b[0mVALUEERROR\u001b[0m\u001b[0;34m,\u001b[0m \u001b[0mMEMORYALLOCERROR\u001b[0m\u001b[0;34m,\u001b[0m \u001b[0mFILEERROR\u001b[0m\u001b[0;34m)\u001b[0m\u001b[0;34m:\u001b[0m\u001b[0;34m\u001b[0m\u001b[0;34m\u001b[0m\u001b[0m\n\u001b[0;32m---> 53\u001b[0;31m             \u001b[0;32mraise\u001b[0m \u001b[0mFatalCError\u001b[0m\u001b[0;34m\u001b[0m\u001b[0;34m\u001b[0m\u001b[0m\n\u001b[0m\u001b[1;32m     54\u001b[0m         \u001b[0;32melse\u001b[0m\u001b[0;34m:\u001b[0m  \u001b[0;31m# Unknown C code\u001b[0m\u001b[0;34m\u001b[0m\u001b[0;34m\u001b[0m\u001b[0m\n\u001b[1;32m     55\u001b[0m             \u001b[0;32mraise\u001b[0m \u001b[0mFatalCError\u001b[0m\u001b[0;34m(\u001b[0m\u001b[0;34m\"Unknown error in C. Please report this error!\"\u001b[0m\u001b[0;34m)\u001b[0m\u001b[0;34m\u001b[0m\u001b[0;34m\u001b[0m\u001b[0m\n",
      "\u001b[0;31mFatalCError\u001b[0m: 21cmFAST is exiting."
     ]
    }
   ],
   "source": [
    "# call run_coeval at three different redshifts\n",
    "coeval8, coeval9, coeval10 = p21c.run_coeval(\n",
    "    redshift = [8.0, 9.0, 10.0],\n",
    "    user_params = {\"HII_DIM\": 100, \"BOX_LEN\": 100, \"USE_INTERPOLATION_TABLES\": True},\n",
    "    cosmo_params = p21c.CosmoParams(SIGMA_8=0.8),\n",
    "    astro_params = p21c.AstroParams({\"HII_EFF_FACTOR\":20.0}),\n",
    "    random_seed=12345\n",
    ")\n"
   ]
  },
  {
   "cell_type": "markdown",
   "metadata": {},
   "source": [
    "We now have a look at the set of parameters we can access.\n",
    "\n",
    "### Task 1: \n",
    "Explore user_params, cosmo_params, astro_params:\n",
    "\n",
    "Create some more co-eval cubes in different settings.\n"
   ]
  },
  {
   "cell_type": "code",
   "execution_count": 8,
   "metadata": {},
   "outputs": [
    {
     "ename": "NameError",
     "evalue": "name 'coeval8' is not defined",
     "output_type": "error",
     "traceback": [
      "\u001b[0;31m---------------------------------------------------------------------------\u001b[0m",
      "\u001b[0;31mNameError\u001b[0m                                 Traceback (most recent call last)",
      "\u001b[0;32m<ipython-input-8-cdd1cf51442d>\u001b[0m in \u001b[0;36m<module>\u001b[0;34m\u001b[0m\n\u001b[0;32m----> 1\u001b[0;31m \u001b[0mprint\u001b[0m\u001b[0;34m(\u001b[0m\u001b[0mcoeval8\u001b[0m\u001b[0;34m.\u001b[0m\u001b[0muser_params\u001b[0m\u001b[0;34m)\u001b[0m\u001b[0;34m\u001b[0m\u001b[0;34m\u001b[0m\u001b[0m\n\u001b[0m",
      "\u001b[0;31mNameError\u001b[0m: name 'coeval8' is not defined"
     ]
    }
   ],
   "source": [
    "print(coeval8.user_params)"
   ]
  },
  {
   "cell_type": "markdown",
   "metadata": {},
   "source": [
    "Let's now have a look at the cubes!\n",
    "\n",
    "###  Question: \n",
    "What dimensions do the co-eval cubes created have?\n",
    "\n",
    "### Task 2:\n",
    "Plot some co-eval cubes."
   ]
  },
  {
   "cell_type": "code",
   "execution_count": 8,
   "metadata": {},
   "outputs": [
    {
     "ename": "NameError",
     "evalue": "name 'coeval8' is not defined",
     "output_type": "error",
     "traceback": [
      "\u001b[0;31m---------------------------------------------------------------------------\u001b[0m",
      "\u001b[0;31mNameError\u001b[0m                                 Traceback (most recent call last)",
      "\u001b[0;32m<ipython-input-8-cdd1cf51442d>\u001b[0m in \u001b[0;36m<module>\u001b[0;34m\u001b[0m\n\u001b[0;32m----> 1\u001b[0;31m \u001b[0mprint\u001b[0m\u001b[0;34m(\u001b[0m\u001b[0mcoeval8\u001b[0m\u001b[0;34m.\u001b[0m\u001b[0muser_params\u001b[0m\u001b[0;34m)\u001b[0m\u001b[0;34m\u001b[0m\u001b[0;34m\u001b[0m\u001b[0m\n\u001b[0m",
      "\u001b[0;31mNameError\u001b[0m: name 'coeval8' is not defined"
     ]
    }
   ],
   "source": [
    "# base example\n",
    "print(coeval8.brightness_temp.shape)\n",
    "\n",
    "fig, ax = plt.subplots(1,3, figsize=(14,4))\n",
    "for i, (coeval, redshift) in enumerate(zip([coeval8, coeval9, coeval10], [8,9,10])):\n",
    "    plotting.coeval_sliceplot(coeval, ax=ax[i], fig=fig);\n",
    "    plt.title(\"z = %s\"%redshift)\n",
    "plt.tight_layout()\n",
    "\n",
    "# _struct attributes contain the numpy arrays of the data cubes, more functions are available\n",
    "coeval8.brightness_temp_struct.global_Tb"
   ]
  },
  {
   "cell_type": "markdown",
   "metadata": {},
   "source": [
    "## 2a) Compare saliency maps for different inputs\n",
    "\n",
    "### Task 2a: \n",
    "Plot both saliency for simulations-only and mock lightcones\n",
    "\n",
    "### Question 2a: \n",
    "Does the network's attention shift with the inclusion of noise? If yes, how?"
   ]
  },
  {
   "cell_type": "code",
   "execution_count": 5,
   "metadata": {},
   "outputs": [
    {
     "name": "stdout",
     "output_type": "stream",
     "text": [
      "(1, 140, 140, 2350)\n"
     ]
    },
    {
     "data": {
      "image/png": "[encoded data removed]",
      "text/plain": [
       "<Figure size 432x288 with 1 Axes>"
      ]
     },
     "metadata": {
      "needs_background": "light"
     },
     "output_type": "display_data"
    },
    {
     "data": {
      "image/png": "[encoded data removed]",
      "text/plain": [
       "<Figure size 432x288 with 1 Axes>"
      ]
     },
     "metadata": {
      "needs_background": "light"
     },
     "output_type": "display_data"
    }
   ],
   "source": [
    "# Task 2, plot and compare here\n",
    "model2 = keras.models.load_model('models/3D_21cmPIE_Net_optmock_par6.h5')\n",
    "#google colab: one might have to adjust the path e.g. to 'introspection-tutorial/models/..\n",
    "\n",
    "obj_saliency2 = Saliency(model2, model_modifier=model_modifier,clone=True) \n",
    "\n",
    "# generate saliency maps for parameters i.e. classes\n",
    "parameters=[0,1,2,3,4,5]\n",
    "lc = data[0,0]\n",
    "for para in parameters:\n",
    "    def loss(output):\n",
    "        return output[0][para] # shape (samples,classes)\n",
    "    map_saliency2 = obj_saliency2(loss,lc.reshape(140,140,2350,1))\n",
    "\n",
    "print(map_saliency2.shape)\n",
    "nslice = 130\n",
    "plt.figure()\n",
    "plot_saliency = plt.imshow(map_saliency2[0,nslice,:,:], cmap=cm.hot)\n",
    "plt.figure()\n",
    "plot_lc = plt.imshow(lc[nslice,:,:], cmap=\"EoR\",vmin=-150,vmax=30)"
   ]
  },
  {
   "cell_type": "markdown",
   "metadata": {},
   "source": [
    "## 2b) Beyond vanilla saliency \n",
    "### Question 2b: \n",
    "Can the mapping of attention with saliency be improved, in particular can noise in the maps be reduced? Tipp: Use SmoothGrad from tf-keras-vis. What does SmoothGrad exploit?\n",
    "\n",
    "### Task 2b:\n",
    "Explore SmoothGrad for different setting (smooth_samples, smooth_noise)."
   ]
  },
  {
   "cell_type": "code",
   "execution_count": 6,
   "metadata": {},
   "outputs": [
    {
     "name": "stdout",
     "output_type": "stream",
     "text": [
      "(1, 140, 140, 2350)\n"
     ]
    },
    {
     "data": {
      "image/png": "[encoded data removed]",
      "text/plain": [
       "<Figure size 432x288 with 1 Axes>"
      ]
     },
     "metadata": {
      "needs_background": "light"
     },
     "output_type": "display_data"
    },
    {
     "data": {
      "image/png": "[encoded data removed]",
      "text/plain": [
       "<Figure size 432x288 with 1 Axes>"
      ]
     },
     "metadata": {
      "needs_background": "light"
     },
     "output_type": "display_data"
    }
   ],
   "source": [
    "#  Question 2b, try out SmoothGrad here\n",
    "from tf_keras_vis.saliency import Saliency\n",
    "\n",
    "# Change the sigmoid activation of the last layer to a linear one to not obstruct attention.\n",
    "def model_modifier(m):\n",
    "    m.layers[-1].activation = tf.keras.activations.linear\n",
    "    return m\n",
    "\n",
    "# create saliency object\n",
    "obj_saliency = Saliency(model, model_modifier=model_modifier,clone=True) \n",
    "\n",
    "nsamples = 5\n",
    "noise = 0.2\n",
    "\n",
    "# generate saliency maps for parameters i.e. classes\n",
    "parameters=[0,1,2,3,4,5]\n",
    "lc = data[0,0]\n",
    "for para in parameters:\n",
    "    def loss(output):\n",
    "        return output[0][para] # shape (samples,classes)\n",
    "    map_saliency = obj_saliency(loss,lc.reshape(140,140,2350,1),smooth_samples=nsamples,smooth_noise=noise)\n",
    "\n",
    "print(map_saliency.shape)\n",
    "nslice = 130\n",
    "plt.figure()\n",
    "plot_saliency = plt.imshow(map_saliency[0,nslice,:,:], cmap=cm.hot)\n",
    "plt.figure()\n",
    "plot_lc = plt.imshow(lc[nslice,:,:], cmap=\"EoR\",vmin=-150,vmax=30)"
   ]
  },
  {
   "cell_type": "markdown",
   "metadata": {},
   "source": [
    "## 3) (optional) Derive class activation maps and compare \n",
    "\n",
    "### Task 3: \n",
    "Create CAMs, explore their spatial and temporal structure. "
   ]
  },
  {
   "cell_type": "code",
   "execution_count": null,
   "metadata": {},
   "outputs": [],
   "source": [
    "# note: \n",
    "# there is currently an incompatibility of CAM generated with tf-keras-vis and the tensorflow version 2.9\n",
    "# will need to downgrade tensorflow version\n",
    "from tf_keras_vis.gradcam import Gradcam\n",
    "\n",
    "# create CAM object\n",
    "obj_cam = gradcam.Gradcam(model, model_modifier=model_modifier,clone=True) \n",
    "\n",
    "# generate heatmaps for attention\n",
    "parameters=[0,1,2,3,4,5]\n",
    "lc = data[0,0]\n",
    "for para in parameters:\n",
    "    def loss(output):\n",
    "        return output[0][para] # shape (samples,classes)\n",
    "    map_cam = obj_cam(loss,lc.reshape(140,140,2350,1),penultimate_layer=-1) # focus on last convolutional layer\n",
    "\n",
    "print(map_cam.shape)\n",
    "nslice = 130\n",
    "plt.figure()\n",
    "plot_cam = plt.imshow(map_cam[0,nslice,:,:], cmap=cm.hot)\n",
    "plt.figure()\n",
    "plot_lc = plt.imshow(lc[nslice,:,:], cmap=\"EoR\",vmin=-150,vmax=30)"
   ]
  },
  {
   "cell_type": "code",
   "execution_count": null,
   "metadata": {},
   "outputs": [],
   "source": []
  }
 ],
 "metadata": {
  "kernelspec": {
   "display_name": "Python 3",
   "language": "python",
   "name": "python3"
  },
  "language_info": {
   "codemirror_mode": {
    "name": "ipython",
    "version": 3
   },
   "file_extension": ".py",
   "mimetype": "text/x-python",
   "name": "python",
   "nbconvert_exporter": "python",
   "pygments_lexer": "ipython3",
   "version": "3.6.10"
  }
 },
 "nbformat": 4,
 "nbformat_minor": 4
}
